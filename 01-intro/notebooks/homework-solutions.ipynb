{
 "cells": [
  {
   "cell_type": "markdown",
   "id": "ea6571bc",
   "metadata": {},
   "source": [
    "Question 1\n",
    "What's the version of Pandas that you installed?"
   ]
  },
  {
   "cell_type": "code",
   "execution_count": 64,
   "id": "fe95a981",
   "metadata": {},
   "outputs": [
    {
     "data": {
      "text/plain": [
       "'2.1.4'"
      ]
     },
     "execution_count": 64,
     "metadata": {},
     "output_type": "execute_result"
    }
   ],
   "source": [
    "import numpy as np\n",
    "import pandas as pd\n",
    "\n",
    "pd.__version__"
   ]
  },
  {
   "cell_type": "markdown",
   "id": "4f56d331",
   "metadata": {},
   "source": [
    "Question 2\n",
    "How many columns are in the dataset? (https://raw.githubusercontent.com/alexeygrigorev/datasets/master/housing.csv)"
   ]
  },
  {
   "cell_type": "code",
   "execution_count": 7,
   "id": "f3e4f945",
   "metadata": {},
   "outputs": [
    {
     "data": {
      "text/plain": [
       "10"
      ]
     },
     "execution_count": 7,
     "metadata": {},
     "output_type": "execute_result"
    }
   ],
   "source": [
    "df = pd.read_csv('../housing.csv')\n",
    "len(df.columns)"
   ]
  },
  {
   "cell_type": "markdown",
   "id": "9c196410",
   "metadata": {},
   "source": [
    "Question 3\n",
    "Which columns in the dataset have missing values?"
   ]
  },
  {
   "cell_type": "code",
   "execution_count": 16,
   "id": "8ed3f2bd",
   "metadata": {},
   "outputs": [
    {
     "data": {
      "text/plain": [
       "longitude               0\n",
       "latitude                0\n",
       "housing_median_age      0\n",
       "total_rooms             0\n",
       "total_bedrooms        207\n",
       "population              0\n",
       "households              0\n",
       "median_income           0\n",
       "median_house_value      0\n",
       "ocean_proximity         0\n",
       "dtype: int64"
      ]
     },
     "execution_count": 16,
     "metadata": {},
     "output_type": "execute_result"
    }
   ],
   "source": [
    "df.isnull().sum()"
   ]
  },
  {
   "cell_type": "markdown",
   "id": "d37b3782",
   "metadata": {},
   "source": [
    "Question 4\n",
    "How many unique values does the ocean_proximity column have?"
   ]
  },
  {
   "cell_type": "code",
   "execution_count": 19,
   "id": "0029f490",
   "metadata": {},
   "outputs": [
    {
     "data": {
      "text/plain": [
       "5"
      ]
     },
     "execution_count": 19,
     "metadata": {},
     "output_type": "execute_result"
    }
   ],
   "source": [
    "df.ocean_proximity.nunique()"
   ]
  },
  {
   "cell_type": "markdown",
   "id": "c4001d4d",
   "metadata": {},
   "source": [
    "Question 5\n",
    "What's the average value of the median_house_value for the houses located near the bay?"
   ]
  },
  {
   "cell_type": "code",
   "execution_count": 23,
   "id": "ebd38601",
   "metadata": {},
   "outputs": [
    {
     "data": {
      "text/html": [
       "<div>\n",
       "<style scoped>\n",
       "    .dataframe tbody tr th:only-of-type {\n",
       "        vertical-align: middle;\n",
       "    }\n",
       "\n",
       "    .dataframe tbody tr th {\n",
       "        vertical-align: top;\n",
       "    }\n",
       "\n",
       "    .dataframe thead th {\n",
       "        text-align: right;\n",
       "    }\n",
       "</style>\n",
       "<table border=\"1\" class=\"dataframe\">\n",
       "  <thead>\n",
       "    <tr style=\"text-align: right;\">\n",
       "      <th></th>\n",
       "      <th>count</th>\n",
       "      <th>mean</th>\n",
       "      <th>std</th>\n",
       "      <th>min</th>\n",
       "      <th>25%</th>\n",
       "      <th>50%</th>\n",
       "      <th>75%</th>\n",
       "      <th>max</th>\n",
       "    </tr>\n",
       "    <tr>\n",
       "      <th>ocean_proximity</th>\n",
       "      <th></th>\n",
       "      <th></th>\n",
       "      <th></th>\n",
       "      <th></th>\n",
       "      <th></th>\n",
       "      <th></th>\n",
       "      <th></th>\n",
       "      <th></th>\n",
       "    </tr>\n",
       "  </thead>\n",
       "  <tbody>\n",
       "    <tr>\n",
       "      <th>&lt;1H OCEAN</th>\n",
       "      <td>9136.0</td>\n",
       "      <td>240084.285464</td>\n",
       "      <td>106124.292213</td>\n",
       "      <td>17500.0</td>\n",
       "      <td>164100.0</td>\n",
       "      <td>214850.0</td>\n",
       "      <td>289100.0</td>\n",
       "      <td>500001.0</td>\n",
       "    </tr>\n",
       "    <tr>\n",
       "      <th>INLAND</th>\n",
       "      <td>6551.0</td>\n",
       "      <td>124805.392001</td>\n",
       "      <td>70007.908494</td>\n",
       "      <td>14999.0</td>\n",
       "      <td>77500.0</td>\n",
       "      <td>108500.0</td>\n",
       "      <td>148950.0</td>\n",
       "      <td>500001.0</td>\n",
       "    </tr>\n",
       "    <tr>\n",
       "      <th>ISLAND</th>\n",
       "      <td>5.0</td>\n",
       "      <td>380440.000000</td>\n",
       "      <td>80559.561816</td>\n",
       "      <td>287500.0</td>\n",
       "      <td>300000.0</td>\n",
       "      <td>414700.0</td>\n",
       "      <td>450000.0</td>\n",
       "      <td>450000.0</td>\n",
       "    </tr>\n",
       "    <tr>\n",
       "      <th>NEAR BAY</th>\n",
       "      <td>2290.0</td>\n",
       "      <td>259212.311790</td>\n",
       "      <td>122818.537064</td>\n",
       "      <td>22500.0</td>\n",
       "      <td>162500.0</td>\n",
       "      <td>233800.0</td>\n",
       "      <td>345700.0</td>\n",
       "      <td>500001.0</td>\n",
       "    </tr>\n",
       "    <tr>\n",
       "      <th>NEAR OCEAN</th>\n",
       "      <td>2658.0</td>\n",
       "      <td>249433.977427</td>\n",
       "      <td>122477.145927</td>\n",
       "      <td>22500.0</td>\n",
       "      <td>150000.0</td>\n",
       "      <td>229450.0</td>\n",
       "      <td>322750.0</td>\n",
       "      <td>500001.0</td>\n",
       "    </tr>\n",
       "  </tbody>\n",
       "</table>\n",
       "</div>"
      ],
      "text/plain": [
       "                  count           mean            std       min       25%  \\\n",
       "ocean_proximity                                                             \n",
       "<1H OCEAN        9136.0  240084.285464  106124.292213   17500.0  164100.0   \n",
       "INLAND           6551.0  124805.392001   70007.908494   14999.0   77500.0   \n",
       "ISLAND              5.0  380440.000000   80559.561816  287500.0  300000.0   \n",
       "NEAR BAY         2290.0  259212.311790  122818.537064   22500.0  162500.0   \n",
       "NEAR OCEAN       2658.0  249433.977427  122477.145927   22500.0  150000.0   \n",
       "\n",
       "                      50%       75%       max  \n",
       "ocean_proximity                                \n",
       "<1H OCEAN        214850.0  289100.0  500001.0  \n",
       "INLAND           108500.0  148950.0  500001.0  \n",
       "ISLAND           414700.0  450000.0  450000.0  \n",
       "NEAR BAY         233800.0  345700.0  500001.0  \n",
       "NEAR OCEAN       229450.0  322750.0  500001.0  "
      ]
     },
     "execution_count": 23,
     "metadata": {},
     "output_type": "execute_result"
    }
   ],
   "source": [
    "df.groupby('ocean_proximity').median_house_value.describe()"
   ]
  },
  {
   "cell_type": "markdown",
   "id": "8a16e72c",
   "metadata": {},
   "source": [
    "Question 6\n",
    "Calculate the average of total_bedrooms column in the dataset.\n",
    "Use the fillna method to fill the missing values in total_bedrooms with the mean value from the previous step.\n",
    "Now, calculate the average of total_bedrooms again.\n",
    "Has it changed?"
   ]
  },
  {
   "cell_type": "code",
   "execution_count": 33,
   "id": "0264b824",
   "metadata": {},
   "outputs": [
    {
     "name": "stdout",
     "output_type": "stream",
     "text": [
      "537.8705525375618\n"
     ]
    },
    {
     "data": {
      "text/plain": [
       "537.8705525375617"
      ]
     },
     "execution_count": 33,
     "metadata": {},
     "output_type": "execute_result"
    }
   ],
   "source": [
    "print(df.total_bedrooms.mean())\n",
    "df.total_bedrooms.fillna(df.total_bedrooms.mean()).mean()"
   ]
  },
  {
   "cell_type": "markdown",
   "id": "8e1af7bb",
   "metadata": {},
   "source": [
    "Question 7\n",
    "Select all the options located on islands.\n",
    "Select only columns housing_median_age, total_rooms, total_bedrooms.\n",
    "Get the underlying NumPy array. Let's call it X.\n",
    "Compute matrix-matrix multiplication between the transpose of X and X. To get the transpose, use X.T. Let's call the result XTX.\n",
    "Compute the inverse of XTX.\n",
    "Create an array y with values [950, 1300, 800, 1000, 1300].\n",
    "Multiply the inverse of XTX with the transpose of X, and then multiply the result by y. Call the result w.\n",
    "What's the value of the last element of w?"
   ]
  },
  {
   "cell_type": "code",
   "execution_count": 74,
   "metadata": {},
   "outputs": [
    {
     "name": "stdout",
     "output_type": "stream",
     "text": [
      "5.699229455065565\n"
     ]
    }
   ],
   "source": [
    "x = df.loc[df.ocean_proximity == 'ISLAND', ['housing_median_age', 'total_rooms', 'total_bedrooms']].values\n",
    "XTX = x.T.dot(x)\n",
    "XTX_inverse = np.linalg.inv(XTX)\n",
    "y = np.array([950, 1300, 800, 1000, 1300])\n",
    "w = XTX_inverse.dot(x.T).dot(y)\n",
    "print(w[-1])"
   ]
  }
 ],
 "metadata": {
  "kernelspec": {
   "display_name": "Python 3",
   "language": "python",
   "name": "python3"
  },
  "language_info": {
   "codemirror_mode": {
    "name": "ipython",
    "version": 3
   },
   "file_extension": ".py",
   "mimetype": "text/x-python",
   "name": "python",
   "nbconvert_exporter": "python",
   "pygments_lexer": "ipython3",
   "version": "3.11.6"
  }
 },
 "nbformat": 4,
 "nbformat_minor": 5
}
